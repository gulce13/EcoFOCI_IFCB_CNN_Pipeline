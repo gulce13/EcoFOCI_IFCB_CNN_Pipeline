{
 "cells": [
  {
   "cell_type": "code",
   "execution_count": 1,
   "metadata": {},
   "outputs": [],
   "source": [
    "import os\n",
    "import csv\n",
    "# Path to the folder containing the roi files\n",
    "folder_path = 'D:\\EndSeason-DataDump22\\DY22-06_IFCB'\n"
   ]
  },
  {
   "cell_type": "markdown",
   "metadata": {},
   "source": [
    "Upload raw roi files from harddrive directly\n",
    "-Then select and organize the files as you want"
   ]
  },
  {
   "cell_type": "code",
   "execution_count": 2,
   "metadata": {},
   "outputs": [],
   "source": [
    "# List all the files in the folder\n",
    "folder_files =[file for file in os.listdir(folder_path) if file.endswith('.roi')]"
   ]
  },
  {
   "cell_type": "code",
   "execution_count": 3,
   "metadata": {},
   "outputs": [],
   "source": [
    "# Save the list of files to a csv file\n",
    "with open('2022_roi_files.csv', 'w', newline='') as file:\n",
    "    writer = csv.writer(file)\n",
    "    writer.writerow(['File Name'])  # Write the header\n",
    "    for file_name in folder_files:\n",
    "        writer.writerow([file_name])"
   ]
  },
  {
   "cell_type": "markdown",
   "metadata": {},
   "source": [
    "All the roi files from the same year saved in a csv file as a row.\n",
    " Now we can seperate them by month and by day\n"
   ]
  },
  {
   "cell_type": "code",
   "execution_count": 4,
   "metadata": {},
   "outputs": [
    {
     "data": {
      "text/html": [
       "<div>\n",
       "<style scoped>\n",
       "    .dataframe tbody tr th:only-of-type {\n",
       "        vertical-align: middle;\n",
       "    }\n",
       "\n",
       "    .dataframe tbody tr th {\n",
       "        vertical-align: top;\n",
       "    }\n",
       "\n",
       "    .dataframe thead th {\n",
       "        text-align: right;\n",
       "    }\n",
       "</style>\n",
       "<table border=\"1\" class=\"dataframe\">\n",
       "  <thead>\n",
       "    <tr style=\"text-align: right;\">\n",
       "      <th></th>\n",
       "      <th>File Name</th>\n",
       "    </tr>\n",
       "  </thead>\n",
       "  <tbody>\n",
       "    <tr>\n",
       "      <th>0</th>\n",
       "      <td>D20220505T235621_IFCB165.roi</td>\n",
       "    </tr>\n",
       "    <tr>\n",
       "      <th>1</th>\n",
       "      <td>D20220506T002004_IFCB165.roi</td>\n",
       "    </tr>\n",
       "    <tr>\n",
       "      <th>2</th>\n",
       "      <td>D20220506T004347_IFCB165.roi</td>\n",
       "    </tr>\n",
       "    <tr>\n",
       "      <th>3</th>\n",
       "      <td>D20220506T010730_IFCB165.roi</td>\n",
       "    </tr>\n",
       "    <tr>\n",
       "      <th>4</th>\n",
       "      <td>D20220506T013114_IFCB165.roi</td>\n",
       "    </tr>\n",
       "  </tbody>\n",
       "</table>\n",
       "</div>"
      ],
      "text/plain": [
       "                      File Name\n",
       "0  D20220505T235621_IFCB165.roi\n",
       "1  D20220506T002004_IFCB165.roi\n",
       "2  D20220506T004347_IFCB165.roi\n",
       "3  D20220506T010730_IFCB165.roi\n",
       "4  D20220506T013114_IFCB165.roi"
      ]
     },
     "metadata": {},
     "output_type": "display_data"
    }
   ],
   "source": [
    "#read the csv file with all roi bins from where you saved the file\n",
    "import pandas as pd\n",
    "roi_22=pd.read_csv(\"C:/Users/kurta/OneDrive/Desktop/22-Spring Mooring 5may-1June/2022_roi_files.csv\")\n",
    "display(roi_22.head())"
   ]
  },
  {
   "cell_type": "markdown",
   "metadata": {},
   "source": [
    "##First make a string that can be copied and paste for \"dates to select\"\n"
   ]
  },
  {
   "cell_type": "code",
   "execution_count": 5,
   "metadata": {},
   "outputs": [
    {
     "name": "stdout",
     "output_type": "stream",
     "text": [
      "D2022101 D2022102 D2022103 D2022104 D2022105 D2022106 D2022107 D2022108 D2022109 D20221010 D20221011 D20221012 D20221013 D20221014\n"
     ]
    }
   ],
   "source": [
    "result_string = \"\"\n",
    "#Start and end dates\n",
    "start_date = 1\n",
    "end_date = 14\n",
    "\n",
    "# Iterate over the range of dates\n",
    "for day in range(start_date, end_date + 1):\n",
    "    # Concatenate each date to the result string\n",
    "    result_string += f'D202210{day} '\n",
    "\n",
    "# Remove the trailing space\n",
    "result_string = result_string.strip()\n",
    "\n",
    "# Print the resulting string\n",
    "print(result_string)"
   ]
  },
  {
   "cell_type": "markdown",
   "metadata": {},
   "source": [
    "##Now copy and paste the string in the dates_to_select and define it"
   ]
  },
  {
   "cell_type": "code",
   "execution_count": 6,
   "metadata": {},
   "outputs": [],
   "source": [
    "import pandas as pd\n",
    "\n",
    "# Assuming roi_22 is your DataFrame containing the data\n",
    "# Define a list of dates or cruises you want to select\n",
    "dates_to_select = ['D20221001', 'D20221002', 'D20221003', 'D20221004', 'D20221005', 'D20221006', 'D20221007', 'D20221008', 'D20221009', 'D20221010', 'D20221011', 'D20221012', 'D20221013', 'D20221014']\n",
    "\n",
    "\n",
    "# Path to the dedicated folder\n",
    "folder_path = \"C:/Users/kurta/OneDrive/Desktop/22-Spring Mooring 5may-1June/2022_roi/\"\n",
    "\n",
    "# Iterate over each date\n",
    "for date in dates_to_select:\n",
    "    # Select rows for the current date\n",
    "    selected_rows = roi_22[roi_22['File Name'].str.startswith(date)]\n",
    "    \n",
    "    # Save the selected rows to a CSV file in the dedicated folder\n",
    "    output_file = folder_path + date + \"_files.csv\"\n",
    "    selected_rows.to_csv(output_file, index=False)\n",
    "#each folder with days and months formed    "
   ]
  },
  {
   "cell_type": "markdown",
   "metadata": {},
   "source": [
    "Copying the pathways of images to csv file"
   ]
  },
  {
   "cell_type": "code",
   "execution_count": null,
   "metadata": {},
   "outputs": [],
   "source": [
    "#image pathways for one-binfile (binfile=thousands of png images)\n",
    "import csv\n",
    "import glob\n",
    "import os\n",
    "folder_path= (\"D:/EndSeason-DataDump22/DY22_06_IFCB/images_2022/D202205/D20511T062203_IFCB165\")#one binfile\n",
    "\n",
    "def create_csv_for_folder(folder_path, png_files):\n",
    "    # Get the folder name without any file extension, assuming folder_path is a path to a directory\n",
    "    folder_name = os.path.basename(folder_path)\n",
    "    \n",
    "    # Define the CSV file name with the folder name\n",
    "    csv_file_name = f\"{folder_name}.csv\"\n",
    "    csv_file_path = os.path.join(folder_path, csv_file_name)\n",
    "    \n",
    "    # Create the CSV file and write the header and file names\n",
    "    with open(csv_file_path, 'w', newline='') as csv_file:\n",
    "        writer = csv.writer(csv_file)\n",
    "        writer.writerow([\"File Name\", \"PNG File Path\"])\n",
    "        for png_file in png_files:\n",
    "            # Extract the PNG file name from its path\n",
    "            png_file_name = os.path.basename(png_file)\n",
    "            # Write the folder name (without .csv extension) and PNG file path to the CSV\n",
    "            writer.writerow([folder_name, png_file])\n",
    "def save_png_paths_to_csv(root_dir):\n",
    "    for root, dirs, files in os.walk(root_dir):\n",
    "        # Find PNG files in the current root\n",
    "        png_files = glob.glob(os.path.join(root, '*.png'))\n",
    "        if png_files:\n",
    "            create_csv_for_folder(root, png_files)\n",
    " # Example usage:\n",
    "create_csv_for_folder('D:/EndSeason-DataDump22/DY22_06_IFCB/images_2022/D202205/D20220511T062203_IFCB165','D:/EndSeason-DataDump22/DY22_06_IFCB/images_2022/D202205/D20220511T062203_IFCB165')\n",
    "save_png_paths_to_csv('D:/EndSeason-DataDump22/DY22_06_IFCB/images_2022/D202205/D20220511T062203_IFCB165')\n"
   ]
  },
  {
   "cell_type": "code",
   "execution_count": null,
   "metadata": {},
   "outputs": [],
   "source": [
    "#copying pathways to csv file iteriate in all the binfiles\n",
    "import csv\n",
    "import glob\n",
    "import os\n",
    "folder_path= (\"D:/EndSeason-DataDump22/DY22_06_IFCB/images_2022/D202205\")# all the binfiles are in subfolders  \n",
    "\n",
    "def create_csv_for_folder(folder_path, png_files):\n",
    "    folder_name = os.path.basename(folder_path)\n",
    "    csv_file_name = f\"{folder_name}.csv\"\n",
    "    csv_file_path = os.path.join(folder_path, csv_file_name)\n",
    "    \n",
    "    with open(csv_file_path, 'w', newline='') as csv_file:\n",
    "        writer = csv.writer(csv_file)\n",
    "        writer.writerow([\"File Name\", \"PNG File Path\"])\n",
    "        for png_file in png_files:\n",
    "            # Extract the PNG file name from its path\n",
    "            png_file_name = os.path.basename(png_file)\n",
    "            # Write the folder name (without .csv extension) and PNG file path to the CSV\n",
    "            writer.writerow([folder_name, png_file])\n",
    "\n",
    "def save_png_paths_to_csv(root_dir):\n",
    "    for root, dirs, files in os.walk(root_dir):\n",
    "        # Find PNG files in the current root\n",
    "        png_files = glob.glob(os.path.join(root, '*.png'))\n",
    "        if png_files:\n",
    "            create_csv_for_folder(root, png_files)\n",
    "\n",
    "# Example usage:\n",
    "# Replace 'D202205' with the actual folder name if different\n",
    "save_png_paths_to_csv('D:/EndSeason-DataDump22/DY22_06_IFCB/images_2022/D202205')\n"
   ]
  },
  {
   "cell_type": "code",
   "execution_count": null,
   "metadata": {},
   "outputs": [],
   "source": []
  }
 ],
 "metadata": {
  "kernelspec": {
   "display_name": "base",
   "language": "python",
   "name": "python3"
  },
  "language_info": {
   "codemirror_mode": {
    "name": "ipython",
    "version": 3
   },
   "file_extension": ".py",
   "mimetype": "text/x-python",
   "name": "python",
   "nbconvert_exporter": "python",
   "pygments_lexer": "ipython3",
   "version": "3.11.5"
  }
 },
 "nbformat": 4,
 "nbformat_minor": 2
}
