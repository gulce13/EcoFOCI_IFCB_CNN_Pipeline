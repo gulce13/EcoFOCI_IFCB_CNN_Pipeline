{
 "cells": [
  {
   "cell_type": "code",
   "execution_count": 1,
   "metadata": {},
   "outputs": [],
   "source": [
    "import os\n",
    "import csv\n",
    "# Path to the folder containing the roi files\n",
    "folder_path = 'D:\\EndSeason-DataDump22\\DY22-06_IFCB'\n"
   ]
  },
  {
   "cell_type": "markdown",
   "metadata": {},
   "source": [
    "Upload raw roi files from harddrive directly\n",
    "-Then select and organize the files as you want"
   ]
  },
  {
   "cell_type": "code",
   "execution_count": 2,
   "metadata": {},
   "outputs": [],
   "source": [
    "# List all the files in the folder\n",
    "folder_files =[file for file in os.listdir(folder_path) if file.endswith('.roi')]"
   ]
  },
  {
   "cell_type": "code",
   "execution_count": 3,
   "metadata": {},
   "outputs": [],
   "source": [
    "# Save the list of files to a csv file\n",
    "with open('2022_roi_files.csv', 'w', newline='') as file:\n",
    "    writer = csv.writer(file)\n",
    "    writer.writerow(['File Name'])  # Write the header\n",
    "    for file_name in folder_files:\n",
    "        writer.writerow([file_name])"
   ]
  },
  {
   "cell_type": "markdown",
   "metadata": {},
   "source": [
    "All the roi files from the same year saved in a csv file as a row.\n",
    " Now we can seperate them by month and by day\n"
   ]
  },
  {
   "cell_type": "code",
   "execution_count": 4,
   "metadata": {},
   "outputs": [
    {
     "data": {
      "text/html": [
       "<div>\n",
       "<style scoped>\n",
       "    .dataframe tbody tr th:only-of-type {\n",
       "        vertical-align: middle;\n",
       "    }\n",
       "\n",
       "    .dataframe tbody tr th {\n",
       "        vertical-align: top;\n",
       "    }\n",
       "\n",
       "    .dataframe thead th {\n",
       "        text-align: right;\n",
       "    }\n",
       "</style>\n",
       "<table border=\"1\" class=\"dataframe\">\n",
       "  <thead>\n",
       "    <tr style=\"text-align: right;\">\n",
       "      <th></th>\n",
       "      <th>File Name</th>\n",
       "    </tr>\n",
       "  </thead>\n",
       "  <tbody>\n",
       "    <tr>\n",
       "      <th>0</th>\n",
       "      <td>D20220505T235621_IFCB165.roi</td>\n",
       "    </tr>\n",
       "    <tr>\n",
       "      <th>1</th>\n",
       "      <td>D20220506T002004_IFCB165.roi</td>\n",
       "    </tr>\n",
       "    <tr>\n",
       "      <th>2</th>\n",
       "      <td>D20220506T004347_IFCB165.roi</td>\n",
       "    </tr>\n",
       "    <tr>\n",
       "      <th>3</th>\n",
       "      <td>D20220506T010730_IFCB165.roi</td>\n",
       "    </tr>\n",
       "    <tr>\n",
       "      <th>4</th>\n",
       "      <td>D20220506T013114_IFCB165.roi</td>\n",
       "    </tr>\n",
       "  </tbody>\n",
       "</table>\n",
       "</div>"
      ],
      "text/plain": [
       "                      File Name\n",
       "0  D20220505T235621_IFCB165.roi\n",
       "1  D20220506T002004_IFCB165.roi\n",
       "2  D20220506T004347_IFCB165.roi\n",
       "3  D20220506T010730_IFCB165.roi\n",
       "4  D20220506T013114_IFCB165.roi"
      ]
     },
     "metadata": {},
     "output_type": "display_data"
    }
   ],
   "source": [
    "#read the csv file with all roi bins from where you saved the file\n",
    "import pandas as pd\n",
    "roi_22=pd.read_csv(\"C:/Users/kurta/OneDrive/Desktop/22-Spring Mooring 5may-1June/2022_roi_files.csv\")\n",
    "display(roi_22.head())"
   ]
  },
  {
   "cell_type": "markdown",
   "metadata": {},
   "source": [
    "##First make a string that can be copied and paste for \"dates to select\"\n"
   ]
  },
  {
   "cell_type": "code",
   "execution_count": 5,
   "metadata": {},
   "outputs": [
    {
     "name": "stdout",
     "output_type": "stream",
     "text": [
      "D2022101 D2022102 D2022103 D2022104 D2022105 D2022106 D2022107 D2022108 D2022109 D20221010 D20221011 D20221012 D20221013 D20221014\n"
     ]
    }
   ],
   "source": [
    "result_string = \"\"\n",
    "#Start and end dates\n",
    "start_date = 1\n",
    "end_date = 14\n",
    "\n",
    "# Iterate over the range of dates\n",
    "for day in range(start_date, end_date + 1):\n",
    "    # Concatenate each date to the result string\n",
    "    result_string += f'D202210{day} '\n",
    "\n",
    "# Remove the trailing space\n",
    "result_string = result_string.strip()\n",
    "\n",
    "# Print the resulting string\n",
    "print(result_string)"
   ]
  },
  {
   "cell_type": "markdown",
   "metadata": {},
   "source": [
    "##Now copy and paste the string in the dates_to_select and define it"
   ]
  },
  {
   "cell_type": "code",
   "execution_count": 6,
   "metadata": {},
   "outputs": [],
   "source": [
    "import pandas as pd\n",
    "\n",
    "# Assuming roi_22 is your DataFrame containing the data\n",
    "# Define a list of dates or cruises you want to select\n",
    "dates_to_select = ['D20221001', 'D20221002', 'D20221003', 'D20221004', 'D20221005', 'D20221006', 'D20221007', 'D20221008', 'D20221009', 'D20221010', 'D20221011', 'D20221012', 'D20221013', 'D20221014']\n",
    "\n",
    "\n",
    "# Path to the dedicated folder\n",
    "folder_path = \"C:/Users/kurta/OneDrive/Desktop/22-Spring Mooring 5may-1June/2022_roi/\"\n",
    "\n",
    "# Iterate over each date\n",
    "for date in dates_to_select:\n",
    "    # Select rows for the current date\n",
    "    selected_rows = roi_22[roi_22['File Name'].str.startswith(date)]\n",
    "    \n",
    "    # Save the selected rows to a CSV file in the dedicated folder\n",
    "    output_file = folder_path + date + \"_files.csv\"\n",
    "    selected_rows.to_csv(output_file, index=False)\n",
    "#each folder with days and months formed    "
   ]
  },
  {
   "cell_type": "markdown",
   "metadata": {},
   "source": [
    "Copying the pathways of images to csv file"
   ]
  },
  {
   "cell_type": "code",
   "execution_count": 8,
   "metadata": {},
   "outputs": [],
   "source": [
    "folder_path2='D:\\EndSeason-DataDump22\\DY22-06_IFCB\\2022 images'\n"
   ]
  },
  {
   "cell_type": "code",
   "execution_count": null,
   "metadata": {},
   "outputs": [],
   "source": [
    "\n",
    "\n",
    "# Parent directory containing subdirectories with PNG images\n",
    "parent_directory = \"D:/EndSeason-DataDump22/DY22-06_IFCB/2022 images/D202205\"\n",
    "\n",
    "# Walk through each directory and its subdirectories\n",
    "for root, dirs, files in os.walk(parent_directory):\n",
    "    # Generate the output file path based on the current directory\n",
    "    output_file_path = os.path.join(root, os.path.basename(root) + \"_image_pathways.csv\")\n",
    "    \n",
    "    # List to store the file pathways\n",
    "    file_pathways = []\n",
    "\n",
    "    # Iterate through the files in the current directory\n",
    "    for filename in files:\n",
    "        if filename.endswith(\".png\"):  # Check if file is a PNG image\n",
    "            # Construct the full pathway of the file\n",
    "            file_path = os.path.join(root, filename)\n",
    "            # Append the file pathway to the list\n",
    "            file_pathways.append(file_path)\n",
    "\n",
    "    # Writing the file pathways into the CSV file\n",
    "    with open(output_file_path, 'w', newline='') as csvfile:\n",
    "        writer = csv.writer(csvfile)\n",
    "        # Write each file pathway as a row in the CSV file\n",
    "        for file_path in file_pathways:\n",
    "            writer.writerow([file_path])\n",
    "\n",
    "    print(f\"File pathways for {root} written to CSV successfully at {output_file_path}.\")\n"
   ]
  },
  {
   "cell_type": "code",
   "execution_count": 15,
   "metadata": {},
   "outputs": [
    {
     "name": "stdout",
     "output_type": "stream",
     "text": [
      "File pathways for D:/EndSeason-DataDump22/DY22-06_IFCB/2022 images/D202205 written to CSV successfully at D:/EndSeason-DataDump22/DY22-06_IFCB/2022 images/D202205\\D202205_image_pathways.csv.\n",
      "File pathways for D:/EndSeason-DataDump22/DY22-06_IFCB/2022 images/D202205\\D20220505T235621_IFCB165 written to CSV successfully at D:/EndSeason-DataDump22/DY22-06_IFCB/2022 images/D202205\\D20220505T235621_IFCB165\\D20220505T235621_IFCB165_image_pathways.csv.\n",
      "File pathways for D:/EndSeason-DataDump22/DY22-06_IFCB/2022 images/D202205\\D20220507T045125_IFCB165 written to CSV successfully at D:/EndSeason-DataDump22/DY22-06_IFCB/2022 images/D202205\\D20220507T045125_IFCB165\\D20220507T045125_IFCB165_image_pathways.csv.\n",
      "File pathways for D:/EndSeason-DataDump22/DY22-06_IFCB/2022 images/D202205\\D20220511T042328_IFCB165 written to CSV successfully at D:/EndSeason-DataDump22/DY22-06_IFCB/2022 images/D202205\\D20220511T042328_IFCB165\\D20220511T042328_IFCB165_image_pathways.csv.\n",
      "File pathways for D:/EndSeason-DataDump22/DY22-06_IFCB/2022 images/D202205\\D20220511T044711_IFCB165 written to CSV successfully at D:/EndSeason-DataDump22/DY22-06_IFCB/2022 images/D202205\\D20220511T044711_IFCB165\\D20220511T044711_IFCB165_image_pathways.csv.\n",
      "File pathways for D:/EndSeason-DataDump22/DY22-06_IFCB/2022 images/D202205\\D20220511T051054_IFCB165 written to CSV successfully at D:/EndSeason-DataDump22/DY22-06_IFCB/2022 images/D202205\\D20220511T051054_IFCB165\\D20220511T051054_IFCB165_image_pathways.csv.\n",
      "File pathways for D:/EndSeason-DataDump22/DY22-06_IFCB/2022 images/D202205\\D20220511T053437_IFCB165 written to CSV successfully at D:/EndSeason-DataDump22/DY22-06_IFCB/2022 images/D202205\\D20220511T053437_IFCB165\\D20220511T053437_IFCB165_image_pathways.csv.\n"
     ]
    }
   ],
   "source": [
    "import os\n",
    "import csv\n",
    "\n",
    "# Parent directory containing subdirectories with PNG images\n",
    "parent_directory = \"D:/EndSeason-DataDump22/DY22-06_IFCB/2022 images/D202205\"\n",
    "\n",
    "# Walk through each directory and its subdirectories\n",
    "for root, dirs, files in os.walk(parent_directory):\n",
    "    # Generate the output file path based on the current directory\n",
    "    output_file_path = os.path.join(root, os.path.basename(root) + \"_image_pathways.csv\")\n",
    "    \n",
    "    # List to store the file pathways\n",
    "    file_pathways = []\n",
    "\n",
    "    # Iterate through the files in the current directory\n",
    "    for filename in files:\n",
    "        if filename.endswith(\".png\"):  # Check if file is a PNG image\n",
    "            # Construct the full pathway of the file\n",
    "            file_path = os.path.join(root, filename)\n",
    "            # Append the file pathway to the list\n",
    "            file_pathways.append(file_path)\n",
    "\n",
    "    # Writing the file pathways into the CSV file\n",
    "    with open(output_file_path, 'w', newline='') as csvfile:\n",
    "        writer = csv.writer(csvfile)\n",
    "        # Write each file pathway as a row in the CSV file\n",
    "        for file_path in file_pathways:\n",
    "            writer.writerow([file_path])\n",
    "\n",
    "    print(f\"File pathways for {root} written to CSV successfully at {output_file_path}.\")\n"
   ]
  },
  {
   "cell_type": "code",
   "execution_count": 16,
   "metadata": {},
   "outputs": [
    {
     "name": "stdout",
     "output_type": "stream",
     "text": [
      "CSV file 'D20220511T042328_IFCB165.ip.csv' processed successfully.\n",
      "CSV file 'D20220511T044711_IFCB165_ip.csv' processed successfully.\n",
      "CSV file 'D20220511T051054_IFCB165_ip.csv' processed successfully.\n",
      "CSV file 'D20220511T053437_IFCB165_ip.csv' processed successfully.\n",
      "All CSV files processed.\n"
     ]
    }
   ],
   "source": [
    "import pandas as pd\n",
    "import os\n",
    "\n",
    "# Path to the directory containing CSV files\n",
    "directory = \"D:/EndSeason-DataDump22/DY22-06_IFCB/2022 images/D202205\"\n",
    "\n",
    "# Iterate through each CSV file in the directory\n",
    "for filename in os.listdir(directory):\n",
    "    if filename.endswith(\".csv\"):  # Check if file is a CSV file\n",
    "        # Read the CSV file into a pandas DataFrame\n",
    "        df = pd.read_csv(os.path.join(directory, filename))\n",
    "\n",
    "        # Get the name of the CSV file without extension\n",
    "        csv_filename = os.path.splitext(filename)[0]\n",
    "\n",
    "        # Create a new column and copy the name of the CSV file into each row\n",
    "        df['CSV_File_Name'] = csv_filename\n",
    "\n",
    "        # Save the modified DataFrame back to the same CSV file\n",
    "        df.to_csv(os.path.join(directory, filename), index=False)\n",
    "\n",
    "        print(f\"CSV file '{filename}' processed successfully.\")\n",
    "\n",
    "print(\"All CSV files processed.\")\n"
   ]
  }
 ],
 "metadata": {
  "kernelspec": {
   "display_name": "base",
   "language": "python",
   "name": "python3"
  },
  "language_info": {
   "codemirror_mode": {
    "name": "ipython",
    "version": 3
   },
   "file_extension": ".py",
   "mimetype": "text/x-python",
   "name": "python",
   "nbconvert_exporter": "python",
   "pygments_lexer": "ipython3",
   "version": "3.11.5"
  }
 },
 "nbformat": 4,
 "nbformat_minor": 2
}
